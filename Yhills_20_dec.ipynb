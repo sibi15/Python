{
 "cells": [
  {
   "cell_type": "markdown",
   "id": "d3c91e25",
   "metadata": {},
   "source": [
    "# (20 December)"
   ]
  },
  {
   "cell_type": "markdown",
   "id": "6508d845",
   "metadata": {},
   "source": [
    "##### not december batch session actually;\n",
    "##### october batches' because ours was not saved on cloud"
   ]
  },
  {
   "cell_type": "markdown",
   "id": "e5dd1154",
   "metadata": {},
   "source": [
    "#### > Decision Trees:\n",
    "##### Ensemble -> group of models\n",
    "##### Tree gets split about based on attributes\n",
    "##### Based upon condition, tree gets branched\n",
    "##### Using decision trees, can solve both regression and classification problems\n",
    "\n",
    "##### Decision Tree algorithm needs to decide how to create tree; and split the branches\n",
    "##### First decide root node; independent variables\n",
    "\n",
    "##### Split based on Entropy and Gini (tree spliting criteria)\n",
    "##### > Gini index = 1 - (sigma i->j) (P(c)^2) (calculate for each side of tree)\n",
    "##### Need to split training data with True and False on either sides\n",
    "##### Weighted gini index = n(left) x gini(left) + n(right) x gini(right)\n",
    "##### Ranges from 0 to 1\n",
    "##### Best case: Gini index = 0\n",
    "##### Conditions based on root node; finds all possible splits\n",
    "##### Minimum gini index problem -> selected as criteria for splitting\n",
    "\n",
    "##### > Entropy:\n",
    "##### Entropy = - (sigma j=1 to c) Pj log2(Pj)\n",
    "##### similar to gini in terms of working; just formula difference\n",
    "##### https://www.youtube.com/watch?v=-W0DnxQK1Eo\n",
    "\n",
    "##### F1 score = (2 x precision x recall) / (precision+recall)"
   ]
  },
  {
   "cell_type": "markdown",
   "id": "6733356b",
   "metadata": {},
   "source": [
    "##### Problem of over-fitting\n",
    "##### Works good with one model but not the other"
   ]
  },
  {
   "cell_type": "markdown",
   "id": "dd536a74",
   "metadata": {},
   "source": [
    "##### > Bagging model:\n",
    "##### Sample created from data\n",
    "##### More outcomes -> returned as output\n",
    "##### Models then created from samples\n",
    "##### Parallel process\n",
    "##### Sampling with replacement\n",
    "##### Removing bias; judge example\n",
    "\n",
    "##### > Boosting model:\n",
    "##### A basic model would be created\n",
    "##### Wrongly predicted datapoints given more weightage and another model is made\n",
    "##### Therefore, process progresses by fixing incorrect predictions\n",
    "##### Hyperparameters; select -> to avoid overfitting"
   ]
  }
 ],
 "metadata": {
  "kernelspec": {
   "display_name": "Python 3 (ipykernel)",
   "language": "python",
   "name": "python3"
  },
  "language_info": {
   "codemirror_mode": {
    "name": "ipython",
    "version": 3
   },
   "file_extension": ".py",
   "mimetype": "text/x-python",
   "name": "python",
   "nbconvert_exporter": "python",
   "pygments_lexer": "ipython3",
   "version": "3.9.13"
  }
 },
 "nbformat": 4,
 "nbformat_minor": 5
}
