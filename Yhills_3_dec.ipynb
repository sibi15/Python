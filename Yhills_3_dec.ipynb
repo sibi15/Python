{
 "cells": [
  {
   "cell_type": "markdown",
   "id": "9f0ea66e",
   "metadata": {},
   "source": [
    "# (3 December) Introduction:"
   ]
  },
  {
   "cell_type": "code",
   "execution_count": 1,
   "id": "faf70cce",
   "metadata": {},
   "outputs": [
    {
     "name": "stdout",
     "output_type": "stream",
     "text": [
      "Hello World\n"
     ]
    }
   ],
   "source": [
    "print(\"Hello World\")"
   ]
  },
  {
   "cell_type": "markdown",
   "id": "55940b58",
   "metadata": {},
   "source": [
    "### String in inverted commas"
   ]
  },
  {
   "cell_type": "markdown",
   "id": "ed8406a1",
   "metadata": {},
   "source": [
    "### Shortcut keys"
   ]
  },
  {
   "cell_type": "markdown",
   "id": "a912aff1",
   "metadata": {},
   "source": [
    "### Run -> Shift + Enter"
   ]
  },
  {
   "cell_type": "markdown",
   "id": "0053c63b",
   "metadata": {},
   "source": [
    "##### Insert shell above -> a"
   ]
  },
  {
   "cell_type": "markdown",
   "id": "f84ff6e7",
   "metadata": {},
   "source": [
    "##### Insert shell below -> b"
   ]
  },
  {
   "cell_type": "markdown",
   "id": "91f5df25",
   "metadata": {},
   "source": [
    "##### Delete -> x"
   ]
  },
  {
   "cell_type": "code",
   "execution_count": 5,
   "id": "482c2c9d",
   "metadata": {},
   "outputs": [
    {
     "data": {
      "text/plain": [
       "int"
      ]
     },
     "execution_count": 5,
     "metadata": {},
     "output_type": "execute_result"
    }
   ],
   "source": [
    "x=10\n",
    "type(x)"
   ]
  },
  {
   "cell_type": "code",
   "execution_count": 6,
   "id": "70a4956a",
   "metadata": {},
   "outputs": [
    {
     "data": {
      "text/plain": [
       "str"
      ]
     },
     "execution_count": 6,
     "metadata": {},
     "output_type": "execute_result"
    }
   ],
   "source": [
    "x=\"messi\"\n",
    "type(x)"
   ]
  },
  {
   "cell_type": "code",
   "execution_count": 7,
   "id": "300b4195",
   "metadata": {},
   "outputs": [
    {
     "data": {
      "text/plain": [
       "float"
      ]
     },
     "execution_count": 7,
     "metadata": {},
     "output_type": "execute_result"
    }
   ],
   "source": [
    "X=10.5\n",
    "type(X)"
   ]
  },
  {
   "cell_type": "code",
   "execution_count": 8,
   "id": "f0e002ff",
   "metadata": {},
   "outputs": [
    {
     "data": {
      "text/plain": [
       "bool"
      ]
     },
     "execution_count": 8,
     "metadata": {},
     "output_type": "execute_result"
    }
   ],
   "source": [
    "x=True\n",
    "type(x)"
   ]
  },
  {
   "cell_type": "code",
   "execution_count": 9,
   "id": "39e5129c",
   "metadata": {},
   "outputs": [],
   "source": [
    "players=\"messi\",\"ronaldo\",\"neymar\""
   ]
  },
  {
   "cell_type": "code",
   "execution_count": 10,
   "id": "dcb7752f",
   "metadata": {},
   "outputs": [
    {
     "data": {
      "text/plain": [
       "('messi', 'ronaldo', 'neymar')"
      ]
     },
     "execution_count": 10,
     "metadata": {},
     "output_type": "execute_result"
    }
   ],
   "source": [
    "players"
   ]
  },
  {
   "cell_type": "code",
   "execution_count": null,
   "id": "ae2422f6",
   "metadata": {},
   "outputs": [],
   "source": []
  }
 ],
 "metadata": {
  "kernelspec": {
   "display_name": "Python 3 (ipykernel)",
   "language": "python",
   "name": "python3"
  },
  "language_info": {
   "codemirror_mode": {
    "name": "ipython",
    "version": 3
   },
   "file_extension": ".py",
   "mimetype": "text/x-python",
   "name": "python",
   "nbconvert_exporter": "python",
   "pygments_lexer": "ipython3",
   "version": "3.9.13"
  }
 },
 "nbformat": 4,
 "nbformat_minor": 5
}
