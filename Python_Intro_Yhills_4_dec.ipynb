{
 "cells": [
  {
   "cell_type": "markdown",
   "id": "ad9a3f1b",
   "metadata": {},
   "source": [
    "# (4 December) Data Structures and NumPy:"
   ]
  },
  {
   "cell_type": "markdown",
   "id": "45d949ad",
   "metadata": {},
   "source": [
    "##### Lists:"
   ]
  },
  {
   "cell_type": "code",
   "execution_count": 1,
   "id": "8b7eb7bd",
   "metadata": {
    "collapsed": true
   },
   "outputs": [
    {
     "data": {
      "text/plain": [
       "[1, 2.4, 'sui', 10]"
      ]
     },
     "execution_count": 1,
     "metadata": {},
     "output_type": "execute_result"
    }
   ],
   "source": [
    "sample_list = [1,2.4,\"sui\",10]\n",
    "sample_list"
   ]
  },
  {
   "cell_type": "code",
   "execution_count": 2,
   "id": "88392855",
   "metadata": {
    "collapsed": true
   },
   "outputs": [
    {
     "data": {
      "text/plain": [
       "'sui'"
      ]
     },
     "execution_count": 2,
     "metadata": {},
     "output_type": "execute_result"
    }
   ],
   "source": [
    "sample_list[2]"
   ]
  },
  {
   "cell_type": "markdown",
   "id": "39d3f3a2",
   "metadata": {},
   "source": [
    "##### Lists are heterogenous - allows different types of elements (datatypes)"
   ]
  },
  {
   "cell_type": "code",
   "execution_count": 3,
   "id": "ceddc9ba",
   "metadata": {
    "collapsed": true
   },
   "outputs": [
    {
     "ename": "IndexError",
     "evalue": "list index out of range",
     "output_type": "error",
     "traceback": [
      "\u001b[0;31m---------------------------------------------------------------------------\u001b[0m",
      "\u001b[0;31mIndexError\u001b[0m                                Traceback (most recent call last)",
      "\u001b[0;32m/var/folders/b1/nb_549714h9c28550y1_1n280000gn/T/ipykernel_19369/3970373094.py\u001b[0m in \u001b[0;36m<module>\u001b[0;34m\u001b[0m\n\u001b[0;32m----> 1\u001b[0;31m \u001b[0msample_list\u001b[0m\u001b[0;34m[\u001b[0m\u001b[0;36m8\u001b[0m\u001b[0;34m]\u001b[0m\u001b[0;34m\u001b[0m\u001b[0;34m\u001b[0m\u001b[0m\n\u001b[0m",
      "\u001b[0;31mIndexError\u001b[0m: list index out of range"
     ]
    }
   ],
   "source": [
    "sample_list[8]"
   ]
  },
  {
   "cell_type": "markdown",
   "id": "1b154324",
   "metadata": {},
   "source": [
    "##### Lists are mutable - values changeable"
   ]
  },
  {
   "cell_type": "code",
   "execution_count": 4,
   "id": "f7e533b4",
   "metadata": {
    "collapsed": true
   },
   "outputs": [
    {
     "data": {
      "text/plain": [
       "[1, 5, 'sui', 10]"
      ]
     },
     "execution_count": 4,
     "metadata": {},
     "output_type": "execute_result"
    }
   ],
   "source": [
    "sample_list[1]=5\n",
    "sample_list"
   ]
  },
  {
   "cell_type": "markdown",
   "id": "675d88ad",
   "metadata": {},
   "source": [
    "##### Tuples:"
   ]
  },
  {
   "cell_type": "code",
   "execution_count": 6,
   "id": "1fa46ad7",
   "metadata": {},
   "outputs": [],
   "source": [
    "sample_tuple = (1,2,3,4,5)"
   ]
  },
  {
   "cell_type": "code",
   "execution_count": 7,
   "id": "4c569ede",
   "metadata": {
    "collapsed": true
   },
   "outputs": [
    {
     "data": {
      "text/plain": [
       "(1, 2, 3, 4, 5)"
      ]
     },
     "execution_count": 7,
     "metadata": {},
     "output_type": "execute_result"
    }
   ],
   "source": [
    "sample_tuple"
   ]
  },
  {
   "cell_type": "markdown",
   "id": "1cb5d93b",
   "metadata": {},
   "source": [
    "##### Tuples are also heterogenous"
   ]
  },
  {
   "cell_type": "code",
   "execution_count": 11,
   "id": "a99efecd",
   "metadata": {
    "collapsed": true
   },
   "outputs": [
    {
     "data": {
      "text/plain": [
       "3"
      ]
     },
     "execution_count": 11,
     "metadata": {},
     "output_type": "execute_result"
    }
   ],
   "source": [
    "sample_tuple[2]"
   ]
  },
  {
   "cell_type": "markdown",
   "id": "7104da25",
   "metadata": {},
   "source": [
    "sample_tuple[2]=5"
   ]
  },
  {
   "cell_type": "markdown",
   "id": "5650eb27",
   "metadata": {},
   "source": [
    "##### Tuples are immutable - TypeError"
   ]
  },
  {
   "cell_type": "code",
   "execution_count": 14,
   "id": "1fff68fe",
   "metadata": {},
   "outputs": [],
   "source": [
    "t=1,2,3,4,5"
   ]
  },
  {
   "cell_type": "code",
   "execution_count": 15,
   "id": "7cf8484d",
   "metadata": {
    "collapsed": true
   },
   "outputs": [
    {
     "data": {
      "text/plain": [
       "(1, 2, 3, 4, 5)"
      ]
     },
     "execution_count": 15,
     "metadata": {},
     "output_type": "execute_result"
    }
   ],
   "source": [
    "t"
   ]
  },
  {
   "cell_type": "markdown",
   "id": "f96c9f72",
   "metadata": {},
   "source": [
    "##### Assigning without (); considered a tuple"
   ]
  },
  {
   "cell_type": "code",
   "execution_count": 16,
   "id": "549bb331",
   "metadata": {
    "collapsed": true
   },
   "outputs": [
    {
     "data": {
      "text/plain": [
       "3"
      ]
     },
     "execution_count": 16,
     "metadata": {},
     "output_type": "execute_result"
    }
   ],
   "source": [
    "sample_tuple[2]"
   ]
  },
  {
   "cell_type": "markdown",
   "id": "b158e685",
   "metadata": {},
   "source": [
    "##### Sets:"
   ]
  },
  {
   "cell_type": "code",
   "execution_count": 63,
   "id": "a7c7d0a6",
   "metadata": {
    "collapsed": true
   },
   "outputs": [
    {
     "data": {
      "text/plain": [
       "{1, 2, 3, 'one', 'three', 'two'}"
      ]
     },
     "execution_count": 63,
     "metadata": {},
     "output_type": "execute_result"
    }
   ],
   "source": [
    "sample_set={1,2,\"one\",\"two\",3,3,\"three\"}\n",
    "sample_set"
   ]
  },
  {
   "cell_type": "code",
   "execution_count": 18,
   "id": "f5ea3cad",
   "metadata": {
    "collapsed": true
   },
   "outputs": [
    {
     "ename": "TypeError",
     "evalue": "'set' object is not subscriptable",
     "output_type": "error",
     "traceback": [
      "\u001b[0;31m---------------------------------------------------------------------------\u001b[0m",
      "\u001b[0;31mTypeError\u001b[0m                                 Traceback (most recent call last)",
      "\u001b[0;32m/var/folders/b1/nb_549714h9c28550y1_1n280000gn/T/ipykernel_19369/3244890343.py\u001b[0m in \u001b[0;36m<module>\u001b[0;34m\u001b[0m\n\u001b[0;32m----> 1\u001b[0;31m \u001b[0msample_set\u001b[0m\u001b[0;34m[\u001b[0m\u001b[0;36m3\u001b[0m\u001b[0;34m]\u001b[0m\u001b[0;34m\u001b[0m\u001b[0;34m\u001b[0m\u001b[0m\n\u001b[0m",
      "\u001b[0;31mTypeError\u001b[0m: 'set' object is not subscriptable"
     ]
    }
   ],
   "source": [
    "sample_set[3]"
   ]
  },
  {
   "cell_type": "markdown",
   "id": "8ca325d4",
   "metadata": {},
   "source": [
    "#### Mutable"
   ]
  },
  {
   "cell_type": "markdown",
   "id": "f347b3ea",
   "metadata": {},
   "source": [
    "##### Doesn't allow duplicates"
   ]
  },
  {
   "cell_type": "markdown",
   "id": "0c26708d",
   "metadata": {},
   "source": [
    "##### Ordered according to first digit"
   ]
  },
  {
   "cell_type": "markdown",
   "id": "17305d1f",
   "metadata": {},
   "source": [
    "##### Set elements cannot be retrieved using index"
   ]
  },
  {
   "cell_type": "code",
   "execution_count": 22,
   "id": "f2cfcaf8",
   "metadata": {
    "collapsed": true
   },
   "outputs": [
    {
     "data": {
      "text/plain": [
       "{1, 2, 3, 12, 21, 22, 31}"
      ]
     },
     "execution_count": 22,
     "metadata": {},
     "output_type": "execute_result"
    }
   ],
   "source": [
    "sample_set2 = {1,12,2,21,3,31,22}\n",
    "sample_set2"
   ]
  },
  {
   "cell_type": "code",
   "execution_count": 23,
   "id": "ce5d1e75",
   "metadata": {},
   "outputs": [],
   "source": [
    "sample_set.add(1000)"
   ]
  },
  {
   "cell_type": "code",
   "execution_count": 24,
   "id": "45cc47c1",
   "metadata": {
    "collapsed": true
   },
   "outputs": [
    {
     "data": {
      "text/plain": [
       "{1, 1000, 2, 3, 'one', 'three', 'two'}"
      ]
     },
     "execution_count": 24,
     "metadata": {},
     "output_type": "execute_result"
    }
   ],
   "source": [
    "sample_set"
   ]
  },
  {
   "cell_type": "code",
   "execution_count": 25,
   "id": "d38018c4",
   "metadata": {
    "collapsed": true
   },
   "outputs": [
    {
     "data": {
      "text/plain": [
       "{1, 2, 3, 12, 15, 21, 22, 31}"
      ]
     },
     "execution_count": 25,
     "metadata": {},
     "output_type": "execute_result"
    }
   ],
   "source": [
    "sample_set2.add(15)\n",
    "sample_set2"
   ]
  },
  {
   "cell_type": "code",
   "execution_count": 26,
   "id": "89000d12",
   "metadata": {
    "collapsed": true
   },
   "outputs": [
    {
     "data": {
      "text/plain": [
       "{1, 1000, 2, 'one', 'three', 'two'}"
      ]
     },
     "execution_count": 26,
     "metadata": {},
     "output_type": "execute_result"
    }
   ],
   "source": [
    "sample_set.remove(3)\n",
    "sample_set"
   ]
  },
  {
   "cell_type": "markdown",
   "id": "c974e224",
   "metadata": {},
   "source": [
    "##### Dictionaries:"
   ]
  },
  {
   "cell_type": "code",
   "execution_count": 29,
   "id": "9c15f48f",
   "metadata": {
    "collapsed": true
   },
   "outputs": [
    {
     "data": {
      "text/plain": [
       "{1: 'appple', 2: 'orange', 3: 'banana', 4: 4}"
      ]
     },
     "execution_count": 29,
     "metadata": {},
     "output_type": "execute_result"
    }
   ],
   "source": [
    "sample_dict={1:\"appple\", 2:\"orange\", 3:\"banana\", 4:4}\n",
    "sample_dict"
   ]
  },
  {
   "cell_type": "markdown",
   "id": "72602c93",
   "metadata": {},
   "source": [
    "##### Key-value pair data structure"
   ]
  },
  {
   "cell_type": "markdown",
   "id": "fc9c7769",
   "metadata": {},
   "source": [
    "##### Key should be unique and if not it will take the latest one"
   ]
  },
  {
   "cell_type": "markdown",
   "id": "f11a0708",
   "metadata": {},
   "source": [
    "##### Values can be duplicated but not keys"
   ]
  },
  {
   "cell_type": "code",
   "execution_count": 30,
   "id": "fd6e3b5e",
   "metadata": {
    "collapsed": true
   },
   "outputs": [
    {
     "data": {
      "text/plain": [
       "'appple'"
      ]
     },
     "execution_count": 30,
     "metadata": {},
     "output_type": "execute_result"
    }
   ],
   "source": [
    "sample_dict[1]"
   ]
  },
  {
   "cell_type": "markdown",
   "id": "1cedeb3d",
   "metadata": {},
   "source": [
    "#### dictionary [key]"
   ]
  },
  {
   "cell_type": "markdown",
   "id": "96e83b81",
   "metadata": {},
   "source": [
    "##### Can retrieve value using key but not vice-versa"
   ]
  },
  {
   "cell_type": "markdown",
   "id": "efc838bd",
   "metadata": {},
   "source": [
    "##### Modifying key-value pair"
   ]
  },
  {
   "cell_type": "code",
   "execution_count": 31,
   "id": "da767c6d",
   "metadata": {
    "collapsed": true
   },
   "outputs": [
    {
     "data": {
      "text/plain": [
       "{1: 'appple', 2: 'orange', 3: 'banana', 4: 'fruits'}"
      ]
     },
     "execution_count": 31,
     "metadata": {},
     "output_type": "execute_result"
    }
   ],
   "source": [
    "sample_dict[4] = \"fruits\"\n",
    "sample_dict"
   ]
  },
  {
   "cell_type": "markdown",
   "id": "4b8984b1",
   "metadata": {},
   "source": [
    "##### Mutable"
   ]
  },
  {
   "cell_type": "markdown",
   "id": "39429272",
   "metadata": {},
   "source": [
    "##### Adding key-value pair:"
   ]
  },
  {
   "cell_type": "code",
   "execution_count": 32,
   "id": "2cf3ad90",
   "metadata": {},
   "outputs": [],
   "source": [
    "sample_dict[10] = \"messi\""
   ]
  },
  {
   "cell_type": "code",
   "execution_count": 33,
   "id": "6ec1c5a0",
   "metadata": {
    "collapsed": true
   },
   "outputs": [
    {
     "data": {
      "text/plain": [
       "{1: 'appple', 2: 'orange', 3: 'banana', 4: 'fruits', 10: 'messi'}"
      ]
     },
     "execution_count": 33,
     "metadata": {},
     "output_type": "execute_result"
    }
   ],
   "source": [
    "sample_dict"
   ]
  },
  {
   "cell_type": "markdown",
   "id": "567783b2",
   "metadata": {},
   "source": [
    "##### Deleting key-value pair:"
   ]
  },
  {
   "cell_type": "code",
   "execution_count": 34,
   "id": "6aaac572",
   "metadata": {},
   "outputs": [],
   "source": [
    "del(sample_dict[2])"
   ]
  },
  {
   "cell_type": "code",
   "execution_count": 35,
   "id": "c1271a10",
   "metadata": {
    "collapsed": true
   },
   "outputs": [
    {
     "data": {
      "text/plain": [
       "{1: 'appple', 3: 'banana', 4: 'fruits', 10: 'messi'}"
      ]
     },
     "execution_count": 35,
     "metadata": {},
     "output_type": "execute_result"
    }
   ],
   "source": [
    "sample_dict"
   ]
  },
  {
   "cell_type": "markdown",
   "id": "303b27f6",
   "metadata": {},
   "source": [
    "### "
   ]
  },
  {
   "cell_type": "markdown",
   "id": "9d71f33a",
   "metadata": {},
   "source": [
    "### "
   ]
  },
  {
   "cell_type": "markdown",
   "id": "ad6d5722",
   "metadata": {},
   "source": [
    "### NUMPY: Package for multidimensional array"
   ]
  },
  {
   "cell_type": "code",
   "execution_count": 40,
   "id": "7ba7ae49",
   "metadata": {},
   "outputs": [],
   "source": [
    "import numpy as np"
   ]
  },
  {
   "cell_type": "code",
   "execution_count": 41,
   "id": "04d050e4",
   "metadata": {
    "collapsed": true
   },
   "outputs": [
    {
     "data": {
      "text/plain": [
       "array([5, 6, 8])"
      ]
     },
     "execution_count": 41,
     "metadata": {},
     "output_type": "execute_result"
    }
   ],
   "source": [
    "l=[5,6,8]\n",
    "np.array(l)"
   ]
  },
  {
   "cell_type": "code",
   "execution_count": 42,
   "id": "03e5409f",
   "metadata": {
    "collapsed": true
   },
   "outputs": [
    {
     "data": {
      "text/plain": [
       "array([[1, 2, 3],\n",
       "       [4, 5, 6],\n",
       "       [7, 8, 9]])"
      ]
     },
     "execution_count": 42,
     "metadata": {},
     "output_type": "execute_result"
    }
   ],
   "source": [
    "matrix=[[1,2,3],[4,5,6],[7,8,9]]\n",
    "np.array(matrix)"
   ]
  },
  {
   "cell_type": "code",
   "execution_count": 43,
   "id": "46cd842b",
   "metadata": {
    "collapsed": true
   },
   "outputs": [
    {
     "data": {
      "text/plain": [
       "array([ 3,  6,  9, 12, 15, 18, 21, 24, 27])"
      ]
     },
     "execution_count": 43,
     "metadata": {},
     "output_type": "execute_result"
    }
   ],
   "source": [
    "np.arange(3,30,3)"
   ]
  },
  {
   "cell_type": "code",
   "execution_count": 44,
   "id": "7f92cd28",
   "metadata": {
    "collapsed": true
   },
   "outputs": [
    {
     "data": {
      "text/plain": [
       "array([1, 2, 3, 4])"
      ]
     },
     "execution_count": 44,
     "metadata": {},
     "output_type": "execute_result"
    }
   ],
   "source": [
    "np.arange(1,5,1)"
   ]
  },
  {
   "cell_type": "code",
   "execution_count": 45,
   "id": "bc88aba5",
   "metadata": {
    "collapsed": true
   },
   "outputs": [
    {
     "data": {
      "text/plain": [
       "array([1, 2, 3, 4])"
      ]
     },
     "execution_count": 45,
     "metadata": {},
     "output_type": "execute_result"
    }
   ],
   "source": [
    "np.arange(1,5)"
   ]
  },
  {
   "cell_type": "markdown",
   "id": "2c5325cd",
   "metadata": {},
   "source": [
    "##### np.arange (start(inclusive -> open interval), stop(exclusive -> closed interval), step)"
   ]
  },
  {
   "cell_type": "markdown",
   "id": "6a84bdcf",
   "metadata": {},
   "source": [
    "##### np.arange() == for i in range()"
   ]
  },
  {
   "cell_type": "markdown",
   "id": "e430a0ba",
   "metadata": {},
   "source": [
    "### Shift + Tab -> Details of a function"
   ]
  },
  {
   "cell_type": "code",
   "execution_count": 46,
   "id": "6fc76589",
   "metadata": {
    "collapsed": true
   },
   "outputs": [
    {
     "data": {
      "text/plain": [
       "array([0., 0., 0., 0., 0., 0., 0., 0., 0., 0.])"
      ]
     },
     "execution_count": 46,
     "metadata": {},
     "output_type": "execute_result"
    }
   ],
   "source": [
    "np.zeros(10)"
   ]
  },
  {
   "cell_type": "code",
   "execution_count": 48,
   "id": "f5d3474c",
   "metadata": {
    "collapsed": true
   },
   "outputs": [
    {
     "data": {
      "text/plain": [
       "array(['', '', '', '', '', '', '', '', '', ''], dtype='<U1')"
      ]
     },
     "execution_count": 48,
     "metadata": {},
     "output_type": "execute_result"
    }
   ],
   "source": [
    "np.zeros(10,str)"
   ]
  },
  {
   "cell_type": "code",
   "execution_count": 50,
   "id": "01efdec4",
   "metadata": {
    "collapsed": true
   },
   "outputs": [
    {
     "data": {
      "text/plain": [
       "array([0, 0, 0, 0, 0])"
      ]
     },
     "execution_count": 50,
     "metadata": {},
     "output_type": "execute_result"
    }
   ],
   "source": [
    "np.zeros(5,dtype=int)"
   ]
  },
  {
   "cell_type": "code",
   "execution_count": 51,
   "id": "50487568",
   "metadata": {
    "collapsed": true
   },
   "outputs": [
    {
     "data": {
      "text/plain": [
       "array([], dtype=int64)"
      ]
     },
     "execution_count": 51,
     "metadata": {},
     "output_type": "execute_result"
    }
   ],
   "source": [
    "np.zeros(0,dtype=int)"
   ]
  },
  {
   "cell_type": "code",
   "execution_count": 53,
   "id": "ae7f270c",
   "metadata": {
    "collapsed": true
   },
   "outputs": [
    {
     "data": {
      "text/plain": [
       "array([1., 1., 1., 1., 1., 1., 1., 1., 1., 1.])"
      ]
     },
     "execution_count": 53,
     "metadata": {},
     "output_type": "execute_result"
    }
   ],
   "source": [
    "np.ones(10)"
   ]
  },
  {
   "cell_type": "code",
   "execution_count": 54,
   "id": "251e4798",
   "metadata": {
    "collapsed": true
   },
   "outputs": [
    {
     "data": {
      "text/plain": [
       "array(['1', '1', '1', '1', '1', '1', '1', '1', '1', '1'], dtype='<U1')"
      ]
     },
     "execution_count": 54,
     "metadata": {},
     "output_type": "execute_result"
    }
   ],
   "source": [
    "np.ones(10,str)"
   ]
  },
  {
   "cell_type": "code",
   "execution_count": 55,
   "id": "f526229b",
   "metadata": {
    "collapsed": true
   },
   "outputs": [
    {
     "data": {
      "text/plain": [
       "array([[1., 1., 1.],\n",
       "       [1., 1., 1.],\n",
       "       [1., 1., 1.]])"
      ]
     },
     "execution_count": 55,
     "metadata": {},
     "output_type": "execute_result"
    }
   ],
   "source": [
    "np.ones((3,3))"
   ]
  },
  {
   "cell_type": "markdown",
   "id": "93ed535e",
   "metadata": {},
   "source": [
    "##### np.ones ((rows,columns))"
   ]
  },
  {
   "cell_type": "code",
   "execution_count": 58,
   "id": "64e04353",
   "metadata": {
    "collapsed": true
   },
   "outputs": [
    {
     "data": {
      "text/plain": [
       "array([[0., 0., 0., 0., 0., 0., 0., 0., 0., 0.],\n",
       "       [0., 0., 0., 0., 0., 0., 0., 0., 0., 0.]])"
      ]
     },
     "execution_count": 58,
     "metadata": {},
     "output_type": "execute_result"
    }
   ],
   "source": [
    "np.zeros((2,10))"
   ]
  },
  {
   "cell_type": "markdown",
   "id": "d1953797",
   "metadata": {},
   "source": [
    "##### linspace (start,stop,divider)"
   ]
  },
  {
   "cell_type": "code",
   "execution_count": 59,
   "id": "7a4be22d",
   "metadata": {
    "collapsed": true
   },
   "outputs": [
    {
     "data": {
      "text/plain": [
       "array([1., 2., 3., 4., 5.])"
      ]
     },
     "execution_count": 59,
     "metadata": {},
     "output_type": "execute_result"
    }
   ],
   "source": [
    "np.linspace(1,5,5)"
   ]
  },
  {
   "cell_type": "code",
   "execution_count": 60,
   "id": "66e24081",
   "metadata": {
    "collapsed": true
   },
   "outputs": [
    {
     "data": {
      "text/plain": [
       "array([1.  , 1.25, 1.5 , 1.75, 2.  ])"
      ]
     },
     "execution_count": 60,
     "metadata": {},
     "output_type": "execute_result"
    }
   ],
   "source": [
    "np.linspace(1,2,5)"
   ]
  },
  {
   "cell_type": "markdown",
   "id": "ea1688db",
   "metadata": {},
   "source": [
    "##### eye(n) -> identity matrix n rows and n columns"
   ]
  },
  {
   "cell_type": "code",
   "execution_count": 61,
   "id": "bc222a42",
   "metadata": {
    "collapsed": true
   },
   "outputs": [
    {
     "data": {
      "text/plain": [
       "array([[1., 0., 0., 0., 0.],\n",
       "       [0., 1., 0., 0., 0.],\n",
       "       [0., 0., 1., 0., 0.],\n",
       "       [0., 0., 0., 1., 0.],\n",
       "       [0., 0., 0., 0., 1.]])"
      ]
     },
     "execution_count": 61,
     "metadata": {},
     "output_type": "execute_result"
    }
   ],
   "source": [
    "np.eye(5)"
   ]
  },
  {
   "cell_type": "code",
   "execution_count": 62,
   "id": "b8f75cef",
   "metadata": {
    "collapsed": true
   },
   "outputs": [
    {
     "data": {
      "text/plain": [
       "array([[1., 0., 0., 0., 0., 0., 0., 0., 0., 0.],\n",
       "       [0., 1., 0., 0., 0., 0., 0., 0., 0., 0.],\n",
       "       [0., 0., 1., 0., 0., 0., 0., 0., 0., 0.],\n",
       "       [0., 0., 0., 1., 0., 0., 0., 0., 0., 0.],\n",
       "       [0., 0., 0., 0., 1., 0., 0., 0., 0., 0.],\n",
       "       [0., 0., 0., 0., 0., 1., 0., 0., 0., 0.],\n",
       "       [0., 0., 0., 0., 0., 0., 1., 0., 0., 0.],\n",
       "       [0., 0., 0., 0., 0., 0., 0., 1., 0., 0.],\n",
       "       [0., 0., 0., 0., 0., 0., 0., 0., 1., 0.],\n",
       "       [0., 0., 0., 0., 0., 0., 0., 0., 0., 1.]])"
      ]
     },
     "execution_count": 62,
     "metadata": {},
     "output_type": "execute_result"
    }
   ],
   "source": [
    "np.eye(10)"
   ]
  }
 ],
 "metadata": {
  "kernelspec": {
   "display_name": "Python 3 (ipykernel)",
   "language": "python",
   "name": "python3"
  },
  "language_info": {
   "codemirror_mode": {
    "name": "ipython",
    "version": 3
   },
   "file_extension": ".py",
   "mimetype": "text/x-python",
   "name": "python",
   "nbconvert_exporter": "python",
   "pygments_lexer": "ipython3",
   "version": "3.9.13"
  }
 },
 "nbformat": 4,
 "nbformat_minor": 5
}
