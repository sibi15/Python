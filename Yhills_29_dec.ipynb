{
 "cells": [
  {
   "cell_type": "markdown",
   "id": "59b9583d",
   "metadata": {},
   "source": [
    "# (29 December)"
   ]
  },
  {
   "cell_type": "markdown",
   "id": "f9f05ba7",
   "metadata": {},
   "source": [
    "##### SVM -> Support Vector Machine\n",
    "##### KNN -> learn separately (K-nearest neighbour)\n",
    "##### NB -> learn separately (Naive Bayes classifier)"
   ]
  },
  {
   "cell_type": "code",
   "execution_count": 2,
   "id": "09fdccec",
   "metadata": {},
   "outputs": [],
   "source": [
    "##### Did ensembles again; did from 20 december previous batch\n",
    "##### over-fitting and underfitting\n",
    "##### A model is said to be overfitting or underfitting or generalized"
   ]
  },
  {
   "cell_type": "code",
   "execution_count": 3,
   "id": "f333554e",
   "metadata": {},
   "outputs": [],
   "source": [
    "##### General code to check for the same with train and test data\n",
    "##### from sklearn.tree import DecisionTreeClassifier\n",
    "##### model2 = DecisionTreeClassifier()\n",
    "##### model2.fit(X_train,y_train)\n",
    "##### model2.score(X_train,y_train)\n",
    "##### model2.score(X_test,y_test)"
   ]
  },
  {
   "cell_type": "code",
   "execution_count": 4,
   "id": "72c055bb",
   "metadata": {},
   "outputs": [],
   "source": [
    "##### more the depth of the tree; lesser the closeness between train and test data; an example of a hyperparameter\n",
    "##### changes in hyperparameter values changes the score that the model provides\n",
    "##### model2 = DecisionTreeClassifier() -> this line; function has all the hyperparameters\n",
    "##### Mostly we get overfitting models only\n",
    "\n",
    "##### model2 = DecisionTreeRegressor()"
   ]
  },
  {
   "cell_type": "code",
   "execution_count": null,
   "id": "c15e4d32",
   "metadata": {},
   "outputs": [],
   "source": [
    "##### Bagging classifier and boosting classifier\n",
    "##### Ensemble models\n",
    "##### Boosting -> sequential model\n",
    "##### Bagging -> Parallel model\n",
    "\n",
    "##### Dataset->basic->classification(or)regression->model\n",
    "\n",
    "##### from sklearn.tree import BaggingRegressor()   [concrete.csv]\n",
    "##### model1 = BaggingRegressor()\n",
    "\n",
    "##### from sklearn.ensemble import AdaBoostClassifier\n",
    "##### from sklearn.ensemble import GradientBoostingClassifier"
   ]
  }
 ],
 "metadata": {
  "kernelspec": {
   "display_name": "Python 3 (ipykernel)",
   "language": "python",
   "name": "python3"
  },
  "language_info": {
   "codemirror_mode": {
    "name": "ipython",
    "version": 3
   },
   "file_extension": ".py",
   "mimetype": "text/x-python",
   "name": "python",
   "nbconvert_exporter": "python",
   "pygments_lexer": "ipython3",
   "version": "3.9.13"
  }
 },
 "nbformat": 4,
 "nbformat_minor": 5
}
